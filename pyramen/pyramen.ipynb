{
 "cells": [
  {
   "cell_type": "code",
   "execution_count": 29,
   "metadata": {},
   "outputs": [],
   "source": [
    "# -*- coding: UTF-8 -*-\n",
    "\"\"\"PyRamen Homework Starter.\"\"\"\n",
    "\n",
    "# @TODO: Import libraries\n",
    "import csv\n",
    "from pathlib import Path\n",
    "\n",
    "# @TODO: Set file paths for menu_data.csv and sales_data.csv\n",
    "menu_filepath = Path('menu_data.csv')\n",
    "sales_filepath = Path('sales_data.csv')\n",
    "\n",
    "# @TODO: Initialize list objects to hold our menu and sales data\n",
    "menu = []\n",
    "sales = []\n",
    "line_num = 0\n",
    "item = 0\n",
    "items = []\n",
    "price = 0\n",
    "prices = []\n",
    "cost = 0\n",
    "costs = []\n",
    "report = {'01-count':0, 'revenue':0,'cogs':0, 'profits':0 }\n",
    "\n",
    "# @TODO: Read in the menu data into the menu list\n",
    "# Open the input csv as a file object\n",
    "with open(\"menu_data.csv\", \"r\") as menu_file:\n",
    "    \n",
    "    # Pass in the csv file to the csv.reader() function\n",
    "    menu_csv = csv.reader(menu_file)\n",
    "    with open(\"sales_data.csv\", \"r\") as sales_file:\n",
    "    \n",
    "    # Pass in the csv file to the csv.reader() function\n",
    "        sales_csv = csv.reader(sales_file)\n",
    "    \n",
    "    # Go to the next row from the start of the file\n",
    "    # to skip the header and iterate line_num by 1\n",
    "        header = next(menu_csv)\n",
    "        line_num += 1 \n",
    "\n",
    "      # Read each row of data after the header\n",
    "        for row in menu_csv:\n",
    "        \n",
    "        # Set profit_n_loss and date variables equal to the value in the 2nd and 1st column of each row\n",
    "            item = str(row[0])\n",
    "            price = float(row[3])\n",
    "            cost = int(row[4])\n",
    "        \n",
    "        # Append the row profit or losses value and date to the list of profits and losses and dates.\n",
    "            items.append(item)    \n",
    "            prices.append(price)\n",
    "            costs.append(cost)\n"
   ]
  },
  {
   "cell_type": "code",
   "execution_count": 27,
   "metadata": {},
   "outputs": [
    {
     "name": "stdout",
     "output_type": "stream",
     "text": [
      "32\n"
     ]
    }
   ],
   "source": []
  },
  {
   "cell_type": "code",
   "execution_count": null,
   "metadata": {},
   "outputs": [],
   "source": []
  }
 ],
 "metadata": {
  "kernelspec": {
   "display_name": "Python 3",
   "language": "python",
   "name": "python3"
  },
  "language_info": {
   "codemirror_mode": {
    "name": "ipython",
    "version": 3
   },
   "file_extension": ".py",
   "mimetype": "text/x-python",
   "name": "python",
   "nbconvert_exporter": "python",
   "pygments_lexer": "ipython3",
   "version": "3.7.3"
  }
 },
 "nbformat": 4,
 "nbformat_minor": 4
}
